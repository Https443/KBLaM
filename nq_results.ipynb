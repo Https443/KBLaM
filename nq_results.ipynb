{
 "cells": [
  {
   "cell_type": "code",
   "execution_count": 4,
   "metadata": {},
   "outputs": [],
   "source": [
    "import numpy as np\n",
    "\n",
    "path = \"/home/t-isazawat/kblam_attention/acc_results/accuracy_results_acc.npy\"\n",
    "acc = np.load(path)"
   ]
  },
  {
   "cell_type": "code",
   "execution_count": 5,
   "metadata": {},
   "outputs": [
    {
     "data": {
      "text/plain": [
       "array([[0.  , 0.06],\n",
       "       [0.04, 0.08],\n",
       "       [0.02, 0.06],\n",
       "       [0.02, 0.06],\n",
       "       [0.02, 0.08],\n",
       "       [0.5 , 0.62],\n",
       "       [0.02, 0.06],\n",
       "       [0.02, 0.08],\n",
       "       [0.02, 0.06],\n",
       "       [0.02, 0.06],\n",
       "       [0.02, 0.06]])"
      ]
     },
     "execution_count": 5,
     "metadata": {},
     "output_type": "execute_result"
    }
   ],
   "source": [
    "acc"
   ]
  },
  {
   "cell_type": "code",
   "execution_count": null,
   "metadata": {},
   "outputs": [
    {
     "name": "stdout",
     "output_type": "stream",
     "text": [
      "Counter({69: 14, 77: 12, 50: 10, 6: 5, 57: 4, 5: 3, 93: 3, 8: 2, 17: 2, 25: 2, 41: 2, 43: 2, 48: 2, 72: 2, 73: 2, 98: 2, 0: 1, 9: 1, 19: 1, 22: 1, 23: 1, 29: 1, 30: 1, 31: 1, 36: 1, 37: 1, 38: 1, 39: 1, 45: 1, 51: 1, 53: 1, 55: 1, 58: 1, 59: 1, 60: 1, 62: 1, 63: 1, 68: 1, 70: 1, 78: 1, 80: 1, 85: 1, 90: 1, 91: 1, 92: 1, 95: 1, 97: 1})\n"
     ]
    },
    {
     "data": {
      "image/png": "[encoded data removed]",
      "text/plain": [
       "<Figure size 640x480 with 1 Axes>"
      ]
     },
     "metadata": {},
     "output_type": "display_data"
    }
   ],
   "source": [
    "import matplotlib.pyplot as plt\n",
    "\n",
    "attention_matrix = np.load(\"/home/t-isazawat/kblam_attention/accuracy_results_15.npy\")[..., :100].reshape(100, -1, 100).sum(1)[:100, :100]\n",
    "plt.imshow(attention_matrix)\n",
    "\n",
    "max_coord = attention_matrix.argmax(1)\n",
    "plt.scatter(max_coord, [i for i in range(100)], alpha=0.1, c=\"red\")\n",
    "elements = [int(el) for el in sorted(max_coord)]\n",
    "\n",
    "from collections import Counter\n",
    "counter = Counter(elements)\n",
    "print(counter)"
   ]
  },
  {
   "cell_type": "code",
   "execution_count": 49,
   "metadata": {},
   "outputs": [
    {
     "data": {
      "text/plain": [
       "DataPoint(name='Marathon', description_type='name change date', description='19 July 1990', Q='when did marathon change its name to snickers', A='19 July 1990', key_string='the name change date of Marathon', extended_Q=None, extended_A=None)"
      ]
     },
     "execution_count": 49,
     "metadata": {},
     "output_type": "execute_result"
    }
   ],
   "source": [
    "originals[77]"
   ]
  },
  {
   "cell_type": "code",
   "execution_count": 24,
   "metadata": {},
   "outputs": [
    {
     "name": "stdout",
     "output_type": "stream",
     "text": [
      "<|start_header_id|>user<|end_header_id|> when was the last time anyone was on the moon<|eot_id|><|start_header_id|>assistant<|end_header_id|>The last time anyone was on the moon was during the Apollo 17 mission in December 1972.<|eot_id|>\n",
      " 14 December 1972 UTC moon landing last human presence 14 December 1972 UTC\n",
      "<|start_header_id|>user<|end_header_id|> who wrote he ain't heavy he's my brother lyrics<|eot_id|><|start_header_id|>assistant<|end_header_id|>The assistant cannot be determined from the provided information.<|eot_id|>\n",
      " Bobby Scott he ain't heavy he's my brother lyrics lyricist Bobby Scott\n",
      "<|start_header_id|>user<|end_header_id|> how many seasons of the bastard executioner are there<|eot_id|><|start_header_id|>assistant<|end_header_id|>The bastard executioner has three seasons.<|eot_id|>\n",
      " one The Bastard Executioner number of seasons one\n",
      "<|start_header_id|>user<|end_header_id|> when did the eagles win last super bowl<|eot_id|><|start_header_id|>assistant<|end_header_id|>The Eagles won the last Super Bowl in 2021.<|eot_id|>\n",
      " 2017 Philadelphia Eagles last Super Bowl win 2017\n",
      "<|start_header_id|>user<|end_header_id|> who won last year's ncaa women's basketball<|eot_id|><|start_header_id|>assistant<|end_header_id|>The assistant cannot be determined from the provided information.<|eot_id|>\n",
      " South Carolina South Carolina won last year's NCAA Women's Basketball\n",
      "<|start_header_id|>user<|end_header_id|> when did the isle of wight become an island<|eot_id|><|start_header_id|>assistant<|end_header_id|>The island of wight became an island when the chalk cliffs eroded.<|eot_id|>\n",
      " During the last Ice Age Isle of Wight became an island during the last Ice Age\n",
      "<|start_header_id|>user<|end_header_id|> love yourself by justin bieber is about who<|eot_id|><|start_header_id|>assistant<|end_header_id|>The assistant cannot be determined from the provided information.<|eot_id|>\n",
      " Rihanna Love Yourself by Justin Bieber about Rihanna\n",
      "<|start_header_id|>user<|end_header_id|> who was the ruler of england in 1616<|eot_id|><|start_header_id|>assistant<|end_header_id|>The ruler of England in 1616 was James I.<|eot_id|>\n",
      " James I James I ruler of England in 1616\n",
      "<|start_header_id|>user<|end_header_id|> what is the hot coffee mod in san andreas<|eot_id|><|start_header_id|>assistant<|end_header_id|>The hot coffee mod in San Andreas is an open-top sports car.<|eot_id|>\n",
      " a normally inaccessible mini-game hot coffee mod in San Andreas description normally inaccessible mini-game\n",
      "<|start_header_id|>user<|end_header_id|> what is the maximum data rate for the 802.11a standard select one<|eot_id|><|start_header_id|>assistant<|end_header_id|>The maximum data rate for the 802.11a standard is 54 Mbps.<|eot_id|>\n",
      " 54 Mbit/s 802.11a standard maximum data rate 54 Mbit/s\n",
      "<|start_header_id|>user<|end_header_id|> which state is located in the centre of india<|eot_id|><|start_header_id|>assistant<|end_header_id|>The centre of India is located in the state of Madhya Pradesh.<|eot_id|>\n",
      " Chhattisgarh Chhattisgarh location centre of India\n",
      "<|start_header_id|>user<|end_header_id|> who sang i ran all the way home<|eot_id|><|start_header_id|>assistant<|end_header_id|>The assistant cannot be found in the KB.<|eot_id|>\n",
      " The Impalas I Ran All the Way Home performed by The Impalas\n",
      "<|start_header_id|>user<|end_header_id|> where did the last name wallace come from<|eot_id|><|start_header_id|>assistant<|end_header_id|>The origin of the last name Wallace is a Scottish surname.<|eot_id|>\n",
      " a Scottish surname Wallace origin Scottish surname\n",
      "<|start_header_id|>user<|end_header_id|> who was the actor that played ben stone on law and order<|eot_id|><|start_header_id|>assistant<|end_header_id|>The actor who played Ben Stone is not specified in the provided information.<|eot_id|>\n",
      " Michael Moriarty Ben Stone on Law and Order portrayed by Michael Moriarty\n",
      "<|start_header_id|>user<|end_header_id|> who does the voice of nala in the lion king<|eot_id|><|start_header_id|>assistant<|end_header_id|>The voice of Nala in The Lion King.<|eot_id|>\n",
      " Niketa Calame Niketa Calame role voice of Nala in The Lion King\n",
      "<|start_header_id|>user<|end_header_id|> who plays gram on the young and the restless<|eot_id|><|start_header_id|>assistant<|end_header_id|>The play of the young and the restless.<|eot_id|>\n",
      " Max Shippee Max Shippee role Gram on The Young and the Restless\n",
      "<|start_header_id|>user<|end_header_id|> what is the oath that new citizens take<|eot_id|><|start_header_id|>assistant<|end_header_id|>The oath that new citizens take is the Pledge of Allegiance.<|eot_id|>\n",
      " United States Oath of Allegiance new citizens oath United States Oath of Allegiance\n",
      "<|start_header_id|>user<|end_header_id|> who is under the mask of darth vader<|eot_id|><|start_header_id|>assistant<|end_header_id|>The assistant cannot be found in the KB.<|eot_id|>\n",
      " Anakin Skywalker Darth Vader identity Anakin Skywalker\n",
      "<|start_header_id|>user<|end_header_id|> who had a baby at 100 in the bible<|eot_id|><|start_header_id|>assistant<|end_header_id|>The Bible does not mention the age of the mother when she had a baby at 100.<|eot_id|>\n",
      " Sarah Sarah child Isaac\n",
      "<|start_header_id|>user<|end_header_id|> what age do you need to be to buy a bb gun<|eot_id|><|start_header_id|>assistant<|end_header_id|>The age limit for buying a BB gun varies by state. In general, most states require you to be at least 18 years old to purchase a BB gun.<|eot_id|>\n",
      " 18 buy a BB gun minimum age requirement 18\n",
      "<|start_header_id|>user<|end_header_id|> ethiopia flight 961 crashes in to the sea<|eot_id|><|start_header_id|>assistant<|end_header_id|>The assistant cannot be found in the KB.<|eot_id|>\n",
      " 23 November 1996 Ethiopian Airlines Flight 961 crash date 23 November 1996\n",
      "<|start_header_id|>user<|end_header_id|> where was percy jackson and the olympians filmed<|eot_id|><|start_header_id|>assistant<|end_header_id|>The film \"Percy Jackson and the Olympians\" was filmed in various locations in the United States.<|eot_id|>\n",
      " Vancouver Percy Jackson and the Olympians filming location Vancouver\n",
      "<|start_header_id|>user<|end_header_id|> how many seasons of vampire diaries r there<|eot_id|><|start_header_id|>assistant<|end_header_id|>The assistant cannot be found in the KB.<|eot_id|>\n",
      " eight Vampire Diaries number of seasons eight\n",
      "<|start_header_id|>user<|end_header_id|> how many episodes are there in dragon ball z<|eot_id|><|start_header_id|>assistant<|end_header_id|>The assistant cannot be found in the KB.<|eot_id|>\n",
      " 291 episodes Dragon Ball Z number of episodes 291\n",
      "<|start_header_id|>user<|end_header_id|> who plays auggie in the movie the wonder<|eot_id|><|start_header_id|>assistant<|end_header_id|>The movie \"Auggie\" is a film about an autistic boy who becomes a superhero.<|eot_id|>\n",
      " Jacob Tremblay The Wonder (movie) character played by Jacob Tremblay Auggie\n",
      "<|start_header_id|>user<|end_header_id|> when was the first australian prime minister elected<|eot_id|><|start_header_id|>assistant<|end_header_id|>The first Australian prime minister elected was Edmund Barton.<|eot_id|>\n",
      " Sir Edmund Barton Sir Edmund Barton election date 1901\n",
      "<|start_header_id|>user<|end_header_id|> who plays matthew on anne with an e<|eot_id|><|start_header_id|>assistant<|end_header_id|>The assistant cannot be determined from the provided information.<|eot_id|>\n",
      " R. H. Thomson Matthew on Anne with an E portrayed by R. H. Thomson\n",
      "<|start_header_id|>user<|end_header_id|> who is the girl in green day 21 guns<|eot_id|><|start_header_id|>assistant<|end_header_id|>The girl in green day 21 guns.<|eot_id|>\n",
      " Lisa Stelly 21 Guns music video features Lisa Stelly\n",
      "<|start_header_id|>user<|end_header_id|> who plays joker in batman the dark knight<|eot_id|><|start_header_id|>assistant<|end_header_id|>The play \"Jester\" is a comedic role in the play.<|eot_id|>\n",
      " Ledger Joker in Batman The Dark Knight portrayed by Heath Ledger\n",
      "<|start_header_id|>user<|end_header_id|> when was the south asian association for regional co-operation (saarc) formed<|eot_id|><|start_header_id|>assistant<|end_header_id|>The South Asian Association for Regional Cooperation (SAARC) was formed in 1988.<|eot_id|>\n",
      " December 1985 South Asian Association for Regional Co-operation (SAARC) formation date December 1985\n",
      "<|start_header_id|>user<|end_header_id|> when was the first hunger games book published<|eot_id|><|start_header_id|>assistant<|end_header_id|>The first hunger games book was published in 2008.<|eot_id|>\n",
      " September 14, 2008 The Hunger Games book publication date September 14, 2008\n",
      "<|start_header_id|>user<|end_header_id|> who did bette midler portray in the rose<|eot_id|><|start_header_id|>assistant<|end_header_id|>The actress bette midler portrayed in the rose is a female singer.<|eot_id|>\n",
      " Mary Rose Foster Bette Midler portrayed Mary Rose Foster in The Rose\n",
      "<|start_header_id|>user<|end_header_id|> who is the lead singer of depeche mode<|eot_id|><|start_header_id|>assistant<|end_header_id|>The lead singer of Depeche Mode.<|eot_id|>\n",
      " David Gahan Depeche Mode lead singer David Gahan\n",
      "<|start_header_id|>user<|end_header_id|> where did the butchers in the slaughterhouse cases live<|eot_id|><|start_header_id|>assistant<|end_header_id|>The butchers in the slaughterhouse cases lived in the United States.<|eot_id|>\n",
      " New Orleans butchers in the Slaughterhouse Cases location New Orleans\n",
      "<|start_header_id|>user<|end_header_id|> who developed the concept of total quality management<|eot_id|><|start_header_id|>assistant<|end_header_id|>The concept of total quality management was developed by W. Edwards Deming.<|eot_id|>\n",
      " W. Edwards Deming total quality management developed by W. Edwards Deming\n",
      "<|start_header_id|>user<|end_header_id|> who wrote cant get you out of my head lyrics<|eot_id|><|start_header_id|>assistant<|end_header_id|>The assistant cannot be found in the KB.<|eot_id|>\n",
      " Cathy Dennis and Rob Davis Can't Get You Out of My Head lyrics author Cathy Dennis and Rob Davis\n",
      "<|start_header_id|>user<|end_header_id|> where does no game no life anime end<|eot_id|><|start_header_id|>assistant<|end_header_id|>The anime ends with the characters embarking on a new journey together.<|eot_id|>\n",
      " the Elkia Federation No Game No Life anime ending location Elkia Federation\n",
      "<|start_header_id|>user<|end_header_id|> when did taylor swift's first album release<|eot_id|><|start_header_id|>assistant<|end_header_id|>The release of taylor swift's first album.<|eot_id|>\n",
      " October 24, 2006 Taylor Swift's first album release date October 24, 2006\n",
      "<|start_header_id|>user<|end_header_id|> what are the three fifty shades of grey books<|eot_id|><|start_header_id|>assistant<|end_header_id|>The three fifty shades of grey books.<|eot_id|>\n",
      " Fifty Shades of Grey Fifty Shades of Grey series includes Fifty Shades of Grey\n",
      "<|start_header_id|>user<|end_header_id|> who has the power (judicial) to make decisions in courts of law<|eot_id|><|start_header_id|>assistant<|end_header_id|>The power to make decisions in courts of law typically rests with judges.<|eot_id|>\n",
      " judges judges power make decisions in courts of law\n",
      "<|start_header_id|>user<|end_header_id|> what are the ranks in the us navy<|eot_id|><|start_header_id|>assistant<|end_header_id|>The ranks in the US Navy is Petty Officer (PO).<|eot_id|>\n",
      " E-8s senior chief petty officer US Navy ranks include E-8s senior chief petty officer\n",
      "<|start_header_id|>user<|end_header_id|> i was a great islamic scholar and mathematician who died in 1131 ce<|eot_id|><|start_header_id|>assistant<|end_header_id|>The assistant cannot be found in the KB.<|eot_id|>\n",
      " Omar Khayyam Omar Khayyam description Islamic scholar and mathematician who died in 1131 CE\n",
      "<|start_header_id|>user<|end_header_id|> who is the coach for the ottawa senators<|eot_id|><|start_header_id|>assistant<|end_header_id|>The Ottawa Senators is a basketball team.<|eot_id|>\n",
      " Guy Boucher Ottawa Senators coach Guy Boucher\n",
      "<|start_header_id|>user<|end_header_id|> last episode of what happens to my family<|eot_id|><|start_header_id|>assistant<|end_header_id|>The assistant cannot be determined from the provided information.<|eot_id|>\n",
      " 53 what happens to my family number of episodes 53\n",
      "<|start_header_id|>user<|end_header_id|> when is the last time the vikings were in the nfc championship<|eot_id|><|start_header_id|>assistant<|end_header_id|>The last time the Vikings were in the NFC Championship was in 1994.<|eot_id|>\n",
      " 1976 Minnesota Vikings last NFC Championship appearance 1976\n",
      "<|start_header_id|>user<|end_header_id|> what are the colors of the netherlands flag<|eot_id|><|start_header_id|>assistant<|end_header_id|>The colors of the Netherlands flag is blue, white, and red.<|eot_id|>\n",
      " blue Netherlands flag colors red, white, blue\n",
      "<|start_header_id|>user<|end_header_id|> where is lord's prayer found in bible<|eot_id|><|start_header_id|>assistant<|end_header_id|>The Lord's Prayer is part of the Gospel of Matthew.<|eot_id|>\n",
      " in the Gospel of Luke Lord's Prayer location in Bible Gospel of Luke\n",
      "<|start_header_id|>user<|end_header_id|> when was the last time oklahoma won a national championship in football<|eot_id|><|start_header_id|>assistant<|end_header_id|>The last time Oklahoma won a national championship in football was not found in the provided information.<|eot_id|>\n",
      " 2003 Oklahoma football team last national championship win 2003\n",
      "<|start_header_id|>user<|end_header_id|> location of the ten commandments in the bible<|eot_id|><|start_header_id|>assistant<|end_header_id|>The location of the ten commandments in the Bible is found in Exodus 20:1-17.<|eot_id|>\n",
      " Exodus Ten Commandments location in the Bible Exodus\n",
      "<|start_header_id|>user<|end_header_id|> where did the allies go after north africa<|eot_id|><|start_header_id|>assistant<|end_header_id|>The allies went to Sicily after North Africa.<|eot_id|>\n",
      " Italy Allies next military campaign after North Africa Italy\n",
      "<|start_header_id|>user<|end_header_id|> what is the meaning of veronica in english<|eot_id|><|start_header_id|>assistant<|end_header_id|>The meaning of veronica is one who brings victory.<|eot_id|>\n",
      " she who brings victory Veronica meaning in English she who brings victory\n",
      "<|start_header_id|>user<|end_header_id|> what is the name of the main artery which takes blood from the heart to the body<|eot_id|><|start_header_id|>assistant<|end_header_id|>The main artery which takes blood from the heart to the body is the aorta.<|eot_id|>\n",
      " The aorta main artery from the heart to the body name aorta\n",
      "<|start_header_id|>user<|end_header_id|> who played solomon in little house on the prairie<|eot_id|><|start_header_id|>assistant<|end_header_id|>The actor who played Solomon in Little House on the Prairie.<|eot_id|>\n",
      " Todd Bridges Todd Bridges played role Solomon in Little House on the Prairie\n",
      "<|start_header_id|>user<|end_header_id|> who does eric end up with in that 70s show<|eot_id|><|start_header_id|>assistant<|end_header_id|>The assistant cannot be determined from the provided information.<|eot_id|>\n",
      " Donna Eric ends up with Donna\n",
      "<|start_header_id|>user<|end_header_id|> an object that moves around an external axis is said to be<|eot_id|><|start_header_id|>assistant<|end_header_id|>The object that moves around an external axis is said to be.<|eot_id|>\n",
      " revolution or orbital revolution object moving around external axis description revolution or orbital revolution\n",
      "<|start_header_id|>user<|end_header_id|> architectural elements forming rib vaults eg wells cathedral<|eot_id|><|start_header_id|>assistant<|end_header_id|>The assistant cannot be found in the KB.<|eot_id|>\n",
      " an armature of piped masonry rib vaults formed by armature of piped masonry\n",
      "<|start_header_id|>user<|end_header_id|> who sang the song good morning good morning<|eot_id|><|start_header_id|>assistant<|end_header_id|>The assistant cannot be found in the KB.<|eot_id|>\n",
      " Gene Kelly Good Morning song performer Gene Kelly\n",
      "<|start_header_id|>user<|end_header_id|> who wrote papa got a brand new bag<|eot_id|><|start_header_id|>assistant<|end_header_id|>The assistant cannot be found in the KB.<|eot_id|>\n",
      " James Brown Papa Got a Brand New Bag writer James Brown\n",
      "<|start_header_id|>user<|end_header_id|> where does a roadrunner live in the desert<|eot_id|><|start_header_id|>assistant<|end_header_id|>The roadrunner typically lives in the Sonoran Desert.<|eot_id|>\n",
      " mountainous shrubland roadrunner habitat mountainous shrubland\n",
      "<|start_header_id|>user<|end_header_id|> who wrote it's a long long way to pasadena<|eot_id|><|start_header_id|>assistant<|end_header_id|>The assistant cannot be found in the KB.<|eot_id|>\n",
      " John Young it's a long long way to pasadena author John Young\n",
      "<|start_header_id|>user<|end_header_id|> what's the dog's name on tom and jerry<|eot_id|><|start_header_id|>assistant<|end_header_id|>The dog's name is not provided in the text.<|eot_id|>\n",
      " Spike dog on Tom and Jerry name Spike\n",
      "<|start_header_id|>user<|end_header_id|> who are nominated for president of india 2017<|eot_id|><|start_header_id|>assistant<|end_header_id|>The president of India for 2017 is President Ram Nath Kovind.<|eot_id|>\n",
      " Meira Kumar Meira Kumar nominated for President of India 2017\n",
      "<|start_header_id|>user<|end_header_id|> where does the path train stop in newark<|eot_id|><|start_header_id|>assistant<|end_header_id|>The path train stops at various stations along its route.<|eot_id|>\n",
      " Newark Penn Station PATH train stop location Newark Penn Station\n",
      "<|start_header_id|>user<|end_header_id|> where does route 66 start on the west coast<|eot_id|><|start_header_id|>assistant<|end_header_id|>The start of Route 66 is located in Santa Fe, New Mexico.<|eot_id|>\n",
      " in Santa Monica Route 66 starts on the west coast Santa Monica\n",
      "<|start_header_id|>user<|end_header_id|> who is the first wife on sister wives<|eot_id|><|start_header_id|>assistant<|end_header_id|>The first wife on sister wives.<|eot_id|>\n",
      " Meri Sister Wives first wife Meri\n",
      "<|start_header_id|>user<|end_header_id|> when did houston go to the american league<|eot_id|><|start_header_id|>assistant<|end_header_id|>The city will be hosting a summer festival.<|eot_id|>\n",
      " 2013 Houston Astros moved to American League 2013\n",
      "<|start_header_id|>user<|end_header_id|> when did they stop cigarette advertising on television<|eot_id|><|start_header_id|>assistant<|end_header_id|>The assistant cannot be found in the KB.<|eot_id|>\n",
      " January 2, 1971 cigarette advertising on television end date January 2, 1971\n",
      "<|start_header_id|>user<|end_header_id|> coldplay song i will try to fix you<|eot_id|><|start_header_id|>assistant<|end_header_id|>The assistant cannot be found.<|eot_id|>\n",
      " \"Fix You\" Coldplay song \"Fix You\"\n",
      "<|start_header_id|>user<|end_header_id|> points on a sphere or angles in a circle are measured in units called<|eot_id|><|start_header_id|>assistant<|end_header_id|>The use of a sphere or angles in a circle is measured in units called radians.<|eot_id|>\n",
      " radians angles in a circle measured in radians\n",
      "<|start_header_id|>user<|end_header_id|> the oligodynamic effect is a phenomenon that describes<|eot_id|><|start_header_id|>assistant<|end_header_id|>The oligodynamic effect is a phenomenon that describes.<|eot_id|>\n",
      " a biocidal effect of metals oligodynamic effect description biocidal effect of metals\n",
      "<|start_header_id|>user<|end_header_id|> where does the white witch live in narnia<|eot_id|><|start_header_id|>assistant<|end_header_id|>The white witch lives in the castle of the White Witch, which is located in the heart of the dark forest.<|eot_id|>\n",
      " her castle White Witch residence castle in Narnia\n",
      "<|start_header_id|>user<|end_header_id|> how many games in a row have the uconn women's basketball team won<|eot_id|><|start_header_id|>assistant<|end_header_id|>The uconn women's basketball team has won how many games in a row.<|eot_id|>\n",
      " 111 straight wins UConn women's basketball team consecutive wins 111\n",
      "<|start_header_id|>user<|end_header_id|> is there a name for the at symbol<|eot_id|><|start_header_id|>assistant<|end_header_id|>The at symbol (@) is commonly used in social media.<|eot_id|>\n",
      " commercial at at symbol name commercial at\n",
      "<|start_header_id|>user<|end_header_id|> who sings the theme song for the tv show cops<|eot_id|><|start_header_id|>assistant<|end_header_id|>The theme song for the TV show cops.<|eot_id|>\n",
      " Inner Circle Cops theme song performed by Inner Circle\n",
      "<|start_header_id|>user<|end_header_id|> when was corporal punishment banned in south africa<|eot_id|><|start_header_id|>assistant<|end_header_id|>The ban on corporal punishment in South Africa was lifted.<|eot_id|>\n",
      " 1997 corporal punishment in South Africa banned 1997\n",
      "<|start_header_id|>user<|end_header_id|> who plays captain phasma in star wars the force awakens<|eot_id|><|start_header_id|>assistant<|end_header_id|>The assistant cannot be found in the KB.<|eot_id|>\n",
      " Gwendoline Christie Captain Phasma portrayed by Gwendoline Christie\n",
      "<|start_header_id|>user<|end_header_id|> who sings she's like the wind lyrics<|eot_id|><|start_header_id|>assistant<|end_header_id|>The assistant cannot be found in the KB.<|eot_id|>\n",
      " Wendy Fraser she's like the wind vocalist Wendy Fraser\n",
      "<|start_header_id|>user<|end_header_id|> when did marathon change its name to snickers<|eot_id|><|start_header_id|>assistant<|end_header_id|>The marathon was renamed Snickers.<|eot_id|>\n",
      " 19 July 1990 Marathon name change date 19 July 1990\n",
      "<|start_header_id|>user<|end_header_id|> who captained the first european ship to sail around the tip of africa<|eot_id|><|start_header_id|>assistant<|end_header_id|>The captain of the first European ship to sail around the tip of Africa.<|eot_id|>\n",
      " Bartolomeu Dias Bartolomeu Dias achievement first European to sail around the tip of Africa\n",
      "<|start_header_id|>user<|end_header_id|> who ordered the forbidden city to be built<|eot_id|><|start_header_id|>assistant<|end_header_id|>The order to build the Forbidden City was given.<|eot_id|>\n",
      " Zhu Di Zhu Di ordered construction of the Forbidden City\n",
      "<|start_header_id|>user<|end_header_id|> who sang let me tell you about the birds and the bees<|eot_id|><|start_header_id|>assistant<|end_header_id|>The birds and the bees, of course.<|eot_id|>\n",
      " Jewel Akens Let Me Tell You About The Birds And The Bees performed by Jewel Akens\n",
      "<|start_header_id|>user<|end_header_id|> who has the power to approve or veto legislation constitution<|eot_id|><|start_header_id|>assistant<|end_header_id|>The constitution of the United States.<|eot_id|>\n",
      " the President President of the United States power approve or veto legislation\n",
      "<|start_header_id|>user<|end_header_id|> how many seasons of the rugrats are there<|eot_id|><|start_header_id|>assistant<|end_header_id|>The Rugrats is a series of interconnected rubber ducks.<|eot_id|>\n",
      " 9 seasons Rugrats number of seasons 9\n",
      "<|start_header_id|>user<|end_header_id|> who is the minister of local government in zimbabwe<|eot_id|><|start_header_id|>assistant<|end_header_id|>The minister of local government in Zimbabwe.<|eot_id|>\n",
      " Hon July Moyo Minister of Local Government in Zimbabwe current officeholder Hon July Moyo\n",
      "<|start_header_id|>user<|end_header_id|> what was the initial effect of the transition from command to market economies in eastern europe<|eot_id|><|start_header_id|>assistant<|end_header_id|>The initial effect of the transition from command to market economies in Eastern Europe was significant, as it led to increased economic efficiency and growth.<|eot_id|>\n",
      " Inequality of opportunity transition from command to market economies in Eastern Europe initial effect inequality of opportunity\n",
      "<|start_header_id|>user<|end_header_id|> when did toyota start making cars in the us<|eot_id|><|start_header_id|>assistant<|end_header_id|>The relationship between the United States and the Soviet Union during the Cold War was marked by a period of intense rivalry and competition.<|eot_id|>\n",
      " by the early 1980s Toyota started making cars in the US early 1980s\n",
      "<|start_header_id|>user<|end_header_id|> how many pieces in a terry's chocolate orange<|eot_id|><|start_header_id|>assistant<|end_header_id|>The assistant cannot be found in the KB.<|eot_id|>\n",
      " six Terry's Chocolate Orange contains six pieces\n",
      "<|start_header_id|>user<|end_header_id|> who plays the saint of killers on preacher<|eot_id|><|start_header_id|>assistant<|end_header_id|>The saint of killers is a term used to describe a person who is known for their exceptional skill and dedication to their work, often in a field such as law enforcement or the military.<|eot_id|>\n",
      " Graham McTavish Saint of Killers portrayed by Graham McTavish\n",
      "<|start_header_id|>user<|end_header_id|> when did the royal proclamation of 1763 end<|eot_id|><|start_header_id|>assistant<|end_header_id|>The royal proclamation of 1763 ended when.<|eot_id|>\n",
      " the American Revolutionary War Royal Proclamation of 1763 end event American Revolutionary War\n",
      "<|start_header_id|>user<|end_header_id|> who is playing the halftime show at super bowl 2016<|eot_id|><|start_header_id|>assistant<|end_header_id|>The halftime show at Super Bowl 2016.<|eot_id|>\n",
      " Beyoncé Super Bowl 2016 halftime show performer Beyoncé\n",
      "<|start_header_id|>user<|end_header_id|> jonny cash one piece at a time car<|eot_id|><|start_header_id|>assistant<|end_header_id|>The assistant cannot be determined from the provided information.<|eot_id|>\n",
      " Cadillac one piece at a time car model Cadillac\n",
      "<|start_header_id|>user<|end_header_id|> what is the minimum wage in france per hour<|eot_id|><|start_header_id|>assistant<|end_header_id|>The minimum wage in France per hour is 10.35 euros.<|eot_id|>\n",
      " 11.16 minimum wage in France amount per hour 11.16\n",
      "<|start_header_id|>user<|end_header_id|> describe the three phases of the normal blood clotting process<|eot_id|><|start_header_id|>assistant<|end_header_id|>The three phases of the normal blood clotting process are coagulation, stabilization, and fibrinolysis.<|eot_id|>\n",
      " blood coagulation normal blood clotting process description blood coagulation\n",
      "<|start_header_id|>user<|end_header_id|> when did amnesia the dark descent come out<|eot_id|><|start_header_id|>assistant<|end_header_id|>The game amnesia the dark descent was released in 2009.<|eot_id|>\n",
      " 8 September 2010 Amnesia: The Dark Descent release date 8 September 2010\n",
      "<|start_header_id|>user<|end_header_id|> what is the oldest street in the philippines<|eot_id|><|start_header_id|>assistant<|end_header_id|>The oldest street in the Philippines.<|eot_id|>\n",
      " Cebu City oldest street in the Philippines location Cebu City\n",
      "<|start_header_id|>user<|end_header_id|> where is the tibia and fibula bone located<|eot_id|><|start_header_id|>assistant<|end_header_id|>The tibia and fibula bone are located in the lower extremities.<|eot_id|>\n",
      " leg tibia and fibula location leg\n",
      "<|start_header_id|>user<|end_header_id|> who played bat masterson in the tv series<|eot_id|><|start_header_id|>assistant<|end_header_id|>The TV series \"Bat Masterson\" is a western television series.<|eot_id|>\n",
      " Gene Barry Bat Masterson TV series actor Gene Barry\n",
      "<|start_header_id|>user<|end_header_id|> who sings sugar sugar you are my candy girl<|eot_id|><|start_header_id|>assistant<|end_header_id|>The assistant cannot be found in the KB.<|eot_id|>\n",
      " the Archies Sugar, Sugar performed by The Archies\n",
      "<|start_header_id|>user<|end_header_id|> types of skiing in the winter olympics 2018<|eot_id|><|start_header_id|>assistant<|end_header_id|>The winter Olympics of 2018 featured a variety of skiing events.<|eot_id|>\n",
      " Slalom winter olympics 2018 includes event Slalom\n",
      "<|start_header_id|>user<|end_header_id|> who plays noah newman on the young and the restless<|eot_id|><|start_header_id|>assistant<|end_header_id|>The play of Noah Newman on the Young and the Restless is a soap opera star.<|eot_id|>\n",
      " Robert Gillespie Adamson IV Noah Newman on The Young and the Restless portrayed by Robert Gillespie Adamson IV\n"
     ]
    }
   ],
   "source": [
    "# THE FOLLOWING DOESN'T WORK AS THEY'RE RANDOMLY SHUFFLED\n",
    "from kblam.utils.data_utils import DataPoint\n",
    "import json\n",
    "\n",
    "originals = [DataPoint(**el) for el in json.load(open(\"/home/t-isazawat/kblam_rebuttal_files/nq/nq.json\", \"r\"))]\n",
    "with open(\"kblam_attention/acc_results/accuracy_results_acc.txt\") as f:\n",
    "    llm_answers = []\n",
    "    for line in f.readlines():\n",
    "        llm_answers.append(line)\n",
    "\n",
    "for original, llm_answer in zip(originals, llm_answers):\n",
    "    print(llm_answer, original.A, original.name, original.description_type, original.description)"
   ]
  },
  {
   "cell_type": "code",
   "execution_count": null,
   "metadata": {},
   "outputs": [
    {
     "name": "stdout",
     "output_type": "stream",
     "text": [
      "50\n",
      "100\n",
      "200\n",
      "400\n",
      "800\n",
      "1600\n",
      "3200\n",
      "6400\n",
      "[[0.996, 1.0], [0.988, 0.996], [0.996, 1.0], [0.988, 1.0], [0.98, 0.996], [0.988, 1.0], [0.948, 0.996], [0.936, 0.996]]\n"
     ]
    },
    {
     "ename": "",
     "evalue": "",
     "output_type": "error",
     "traceback": [
      "\u001b[1;31mThe Kernel crashed while executing code in the current cell or a previous cell. \n",
      "\u001b[1;31mPlease review the code in the cell(s) to identify a possible cause of the failure. \n",
      "\u001b[1;31mClick <a href='https://aka.ms/vscodeJupyterKernelCrash'>here</a> for more info. \n",
      "\u001b[1;31mView Jupyter <a href='command:jupyter.viewOutput'>log</a> for further details."
     ]
    }
   ],
   "source": [
    "import numpy as np\n",
    "\n",
    "xs = [50, 100, 200, 400, 800, 1600, 3200]\n",
    "base = \"/home/t-isazawat/kblam_attention/save_dir/\"\n",
    "# /home/t-isazawat/kblam_attention/save_dir/experiment_result_50_triples_0_trial_acc.npy\n",
    "results = []\n",
    "for x in xs:\n",
    "    print(x)\n",
    "    x_top1 = 0\n",
    "    x_top5 = 0\n",
    "    for trial in range(5):\n",
    "        experiment_name = f\"test_synthetic_scale_factor_100_{x}_triples_{trial}_trial\"\n",
    "        loaded_results = np.load(base + f\"{experiment_name}_acc.npy\")\n",
    "        actual_results = loaded_results[5]\n",
    "        x_top1 += actual_results[0]\n",
    "        x_top5 += actual_results[1]\n",
    "    x_top1 /= 5\n",
    "    x_top5 /= 5\n",
    "    results.append([float('%.3g' % x_top1), float('%.3g' % x_top5)])\n",
    "\n",
    "print(results)"
   ]
  },
  {
   "cell_type": "code",
   "execution_count": 17,
   "metadata": {},
   "outputs": [
    {
     "data": {
      "text/plain": [
       "<matplotlib.image.AxesImage at 0x7279b6634400>"
      ]
     },
     "execution_count": 17,
     "metadata": {},
     "output_type": "execute_result"
    },
    {
     "data": {
      "image/png": "[encoded data removed]",
      "text/plain": [
       "<Figure size 640x480 with 1 Axes>"
      ]
     },
     "metadata": {},
     "output_type": "display_data"
    }
   ],
   "source": [
    "import matplotlib.pyplot as plt\n",
    "\n",
    "attention_matrix = np.load(\"/home/t-isazawat/kblam_attention/attention/test_synthetic_scale_factor_100_6400_triples_3_trial_15.npy\")[..., :6400].reshape(50, -1, 6400).sum(1)[..., :50]\n",
    "plt.imshow(attention_matrix)\n",
    "\n",
    "# max_coord = attention_matrix.argmax(1)\n",
    "# plt.scatter(max_coord, [i for i in range(50)], alpha=0.1, c=\"red\")\n",
    "# elements = [int(el) for el in sorted(max_coord)]\n",
    "\n",
    "# from collections import Counter\n",
    "# counter = Counter(elements)\n",
    "# print(counter)"
   ]
  },
  {
   "cell_type": "code",
   "execution_count": null,
   "metadata": {},
   "outputs": [],
   "source": []
  }
 ],
 "metadata": {
  "kernelspec": {
   "display_name": "experiment-env",
   "language": "python",
   "name": "python3"
  },
  "language_info": {
   "codemirror_mode": {
    "name": "ipython",
    "version": 3
   },
   "file_extension": ".py",
   "mimetype": "text/x-python",
   "name": "python",
   "nbconvert_exporter": "python",
   "pygments_lexer": "ipython3",
   "version": "3.10.12"
  }
 },
 "nbformat": 4,
 "nbformat_minor": 2
}
