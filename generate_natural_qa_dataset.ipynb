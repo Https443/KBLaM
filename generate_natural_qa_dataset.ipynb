{
 "cells": [
  {
   "cell_type": "code",
   "execution_count": 1,
   "metadata": {},
   "outputs": [],
   "source": [
    "import sys\n",
    "import os\n",
    "from datetime import datetime\n",
    "from tqdm import tqdm\n",
    "import json\n",
    "sys.path.append(\"./src\")\n",
    "from kblam.utils.data_utils import DataPoint\n",
    "from kblam.gpt_session import GPT"
   ]
  },
  {
   "cell_type": "code",
   "execution_count": 2,
   "metadata": {},
   "outputs": [],
   "source": [
    "def _setup_default_token(secret_name=\"gcr-gpt4o-450k-1\") -> None:\n",
    "    from azure.identity import DefaultAzureCredential\n",
    "    from azure.keyvault.secrets import SecretClient\n",
    "\n",
    "    # Get GPT-4 API key\n",
    "    # seems to be working only locally\n",
    "    default_credential = DefaultAzureCredential(\n",
    "        exclude_shared_token_cache_credential=True,\n",
    "        exclude_interactive_browser_credential=False,\n",
    "    )\n",
    "    secret_client = SecretClient(\n",
    "        \"https://alexandriakeyvault.vault.azure.net/\", default_credential\n",
    "    )\n",
    "    return secret_client.get_secret(secret_name).value\n",
    "\n",
    "gpt = GPT(\n",
    "    model_name=\"gpt-4o\",\n",
    "    endpoint_url=\"https://gcrgpt4aoai1c.openai.azure.com/openai/deployments/gpt-4o/chat/completions?api-version=2024-04-01-preview\",\n",
    "    temperature=0.5,\n",
    "    token = _setup_default_token()\n",
    ")"
   ]
  },
  {
   "cell_type": "code",
   "execution_count": null,
   "metadata": {},
   "outputs": [],
   "source": [
    "nq_path = r\"C:\\Users\\t-isazawat\\Documents\\Experiments\\KBLaM Rebuttal\\Natural Questions\\NQ-open.dev.jsonl\"\n",
    "nq_kb_path = r\"C:\\Users\\t-isazawat\\Documents\\Experiments\\KBLaM Rebuttal\\Natural Questions\\NQ-open.dev-kb.jsonl\"\n",
    "qa = []\n",
    "\n",
    "with open(nq_path, \"r\") as f:\n",
    "    for line in f.readlines():\n",
    "        qa.append(json.loads(line))\n"
   ]
  },
  {
   "cell_type": "code",
   "execution_count": 5,
   "metadata": {},
   "outputs": [
    {
     "data": {
      "text/plain": [
       "{'question': 'when was the last time anyone was on the moon',\n",
       " 'answer': ['14 December 1972 UTC', 'December 1972']}"
      ]
     },
     "execution_count": 5,
     "metadata": {},
     "output_type": "execute_result"
    }
   ],
   "source": [
    "qa[0]"
   ]
  },
  {
   "cell_type": "code",
   "execution_count": 6,
   "metadata": {},
   "outputs": [],
   "source": [
    "prompt = [\n",
    "            {\n",
    "                \"role\": \"system\",\n",
    "                \"content\": \"Generate the knowledge triple that is necessary to answer the given question-answer pair. Prioritise the knowledge triple that is most relevant to the question-answer pair, and provide the knowledge triple in the form of (subject, predicate, object). The knowledge triple should be a fact that is not explicitly mentioned in the question-answer pair. If there is some ambiguity, you should choose the following predicates: 'description', 'objective', and 'purpose'.\",\n",
    "            },\n",
    "            {\n",
    "                \"role\": \"user\",\n",
    "                \"content\": \"Q: What is the description of Alexandria? A: The description of Alexandria is an automatic knowledge base construction system.\",\n",
    "            },\n",
    "            {\n",
    "                \"role\": \"assistant\",\n",
    "                \"content\": \"(Alexandria, description, automatic knowledge base construction system)\"\n",
    "            },\n",
    "            {\n",
    "                \"role\": \"user\",\n",
    "                \"content\": \"Q: What is the objective of Alexandria? A: The objective of Alexandria is to generate knowledge triples that are necessary to answer a given question-answer pair.\",\n",
    "            },\n",
    "            {\n",
    "                \"role\": \"assistant\",\n",
    "                \"content\": \"(Alexandria, objective, generate knowledge triples that are necessary to answer a given question-answer pair)\"\n",
    "            },\n",
    "            {\n",
    "                \"role\": \"user\",\n",
    "                \"content\": \"Q: Who is Joe Biden? A: Joe Biden is the President of the United States.\",\n",
    "            },\n",
    "            {\n",
    "                \"role\": \"assistant\",\n",
    "                \"content\": \"(Joe Biden, description, President of the United States)\"\n",
    "            },\n",
    "            {\n",
    "                \"role\": \"user\",\n",
    "                \"content\": \"Q: when was the last time anyone was on the moon? A: 14 December 1972 UTC.\",\n",
    "            },\n",
    "            {\n",
    "                \"role\": \"assistant\",\n",
    "                \"content\": \"(last time on the moon, date, 14 December 1972 UTC)\"\n",
    "            },\n",
    "            {\n",
    "                \"role\": \"user\",\n",
    "                \"content\": \"Q: who wrote he ain't heavy he's my brother lyrics? A: Bobby Scott.\",\n",
    "            },\n",
    "            {\n",
    "                \"role\": \"assistant\",\n",
    "                \"content\": \"(he ain't heavy he's my brother lyrics, author, Bobby Scott)\"\n",
    "            }\n",
    "        ]\n"
   ]
  },
  {
   "cell_type": "code",
   "execution_count": null,
   "metadata": {},
   "outputs": [
    {
     "name": "stderr",
     "output_type": "stream",
     "text": [
      "Generating QA...: 100%|██████████| 100/100 [03:02<00:00,  1.83s/it]\n"
     ]
    }
   ],
   "source": [
    "\n",
    "\n",
    "def enrich_qa(qa, prompt):\n",
    "    for i, qa_item in enumerate(tqdm(qa, \"Generating triples from QA\")):\n",
    "        if qa_item[\"answer\"]:\n",
    "            messages = prompt + [{\"role\": \"user\", \"content\": f\"Q: {qa_item['question']} A: {qa_item['answer'][0]}\"}]\n",
    "            response = gpt.api_call_chat(messages=messages)\n",
    "            qa_item[\"knowledge_triple\"] = response\n",
    "    return qa\n",
    "\n",
    "enriched_2 = enrich_qa(qa[:100], prompt)"
   ]
  },
  {
   "cell_type": "code",
   "execution_count": 11,
   "metadata": {},
   "outputs": [
    {
     "name": "stdout",
     "output_type": "stream",
     "text": [
      "(last manned moon landing, date, 14 December 1972 UTC)\n",
      "(he ain't heavy he's my brother lyrics, author, Bobby Scott and Bob Russell)\n",
      "(The Bastard Executioner, number of seasons, one)\n",
      "(Philadelphia Eagles, last Super Bowl win, 2017)\n",
      "(South Carolina, won, last year's NCAA women's basketball championship)\n",
      "(Isle of Wight, became an island, during the last Ice Age)\n",
      "(Love Yourself by Justin Bieber, subject, Rihanna)\n",
      "(England, ruler in 1616, James I)\n",
      "(hot coffee mod in San Andreas, description, normally inaccessible mini-game)\n",
      "(802.11a standard, maximum data rate, 54 Mbit/s)\n",
      "(Chhattisgarh, location, centre of India)\n",
      "(I Ran All the Way Home, performer, The Impalas)\n",
      "(Wallace, origin, Scottish surname)\n",
      "(Ben Stone, portrayed by, Michael Moriarty)\n",
      "(Niketa Calame, role, voice of Nala in The Lion King)\n",
      "(Max Shippee, role, Gram on The Young and the Restless)\n",
      "(new citizens, take, United States Oath of Allegiance)\n",
      "(Darth Vader, identity, Anakin Skywalker)\n",
      "(Sarah, gave birth at age, 100)\n",
      "(bb gun, minimum purchase age, 18)\n",
      "(Ethiopian Airlines Flight 961, crash date, 23 November 1996)\n",
      "(Percy Jackson and the Olympians, filming location, Vancouver)\n",
      "(Vampire Diaries, number of seasons, eight)\n",
      "(Dragon Ball Z, number of episodes, 291)\n",
      "(Auggie, portrayed by, Jacob Tremblay)\n",
      "(Sir Edmund Barton, became, first Australian Prime Minister)\n",
      "(Matthew on Anne with an E, portrayed by, R. H. Thomson)\n",
      "(girl in Green Day 21 Guns, identity, Lisa Stelly)\n",
      "(Joker in Batman The Dark Knight, portrayed by, Heath Ledger)\n",
      "(South Asian Association for Regional Co-operation, formation date, December 1985)\n",
      "(The Hunger Games, publication date, September 14, 2008)\n",
      "(Bette Midler, portrayed, Mary Rose Foster in The Rose)\n",
      "(Depeche Mode, lead singer, David Gahan)\n",
      "(butchers in the Slaughterhouse Cases, location, New Orleans)\n",
      "(total quality management, developed by, W. Edwards Deming)\n",
      "(can't get you out of my head lyrics, authors, Cathy Dennis and Rob Davis)\n",
      "(No Game No Life anime, ending location, Elkia Federation)\n",
      "(Taylor Swift's first album, release date, October 24, 2006)\n",
      "(Fifty Shades of Grey, part of series, Fifty Shades trilogy)\n",
      "(judges, power, make decisions in courts of law)\n",
      "(US Navy, rank, senior chief petty officer)\n",
      "(Omar Khayyam, description, great Islamic scholar and mathematician)\n",
      "(Ottawa Senators, coach, Guy Boucher)\n",
      "(What Happens to My Family, last episode number, 53)\n",
      "(Vikings, last NFC Championship appearance, 1976)\n",
      "(Netherlands flag, colors, red white blue)\n",
      "(Lord's Prayer, location, Gospel of Luke)\n",
      "(Oklahoma, last national championship in football, 2003)\n",
      "(Ten Commandments, location in the Bible, Exodus)\n",
      "(Allies, military campaign, Italy after North Africa)\n",
      "(Veronica, meaning in English, she who brings victory)\n",
      "(main artery from heart to body, name, aorta)\n",
      "(Solomon, portrayed by, Todd Bridges)\n",
      "(Eric, ends up with, Donna)\n",
      "(object, movement around an external axis, revolution or orbital revolution)\n",
      "(rib vaults, architectural elements, armature of piped masonry)\n",
      "(Gene Kelly, performer, song \"Good Morning\")\n",
      "(Papa Got a Brand New Bag, author, James Brown)\n",
      "(roadrunner, habitat, mountainous shrubland)\n",
      "(it's a long long way to pasadena, author, John Young)\n",
      "(Tom and Jerry, character, Spike the dog)\n",
      "(Meira Kumar, nomination, President of India 2017)\n",
      "(PATH train, stops at, Newark Penn Station)\n",
      "(Route 66, west coast start location, Santa Monica)\n",
      "(Sister Wives, first wife, Meri)\n",
      "(Houston Astros, league transition year, 2013)\n",
      "(cigarette advertising on television, cessation date, January 2, 1971)\n",
      "(I Will Try to Fix You, alternate title, Fix You)\n",
      "(angles in a circle, measured in, radians)\n",
      "(oligodynamic effect, description, biocidal effect of metals)\n",
      "(White Witch, residence, her castle)\n",
      "(UConn women's basketball team, consecutive wins, 111)\n",
      "(at symbol, name, commercial at)\n",
      "(COPS theme song, performer, Inner Circle)\n",
      "(corporal punishment in South Africa, banned date, 1997)\n",
      "(Captain Phasma, portrayed by, Gwendoline Christie)\n",
      "(She's Like the Wind, vocalist, Wendy Fraser)\n",
      "(Marathon, name change date, 19 July 1990)\n",
      "(Bartolomeu Dias, achievement, captained the first European ship to sail around the tip of Africa)\n",
      "(Forbidden City, ordered by, Zhu Di)\n",
      "(let me tell you about the birds and the bees, performer, Jewel Akens)\n",
      "(President of the United States, power, approve or veto legislation)\n",
      "(The Rugrats, number of seasons, 9)\n",
      "(July Moyo, position, Minister of Local Government in Zimbabwe)\n",
      "(transition from command to market economies in Eastern Europe, initial effect, inequality of opportunity)\n",
      "(Toyota, began manufacturing cars in the US, early 1980s)\n",
      "(Terry's Chocolate Orange, number of pieces, six)\n",
      "(Saint of Killers, portrayed by, Graham McTavish)\n",
      "(Royal Proclamation of 1763, end, American Revolutionary War)\n",
      "(Super Bowl 2016 halftime show, performer, Beyoncé)\n",
      "(one piece at a time car, model, Cadillac)\n",
      "(France, minimum wage per hour, 11.16)\n",
      "(normal blood clotting process, description, blood coagulation)\n",
      "(Amnesia: The Dark Descent, release date, 8 September 2010)\n",
      "(Cebu City, has, oldest street in the Philippines)\n",
      "(tibia and fibula, location, leg)\n",
      "(Bat Masterson TV series, actor, Gene Barry)\n",
      "(Sugar Sugar, performer, The Archies)\n",
      "(winter olympics 2018, includes type of skiing, Slalom)\n",
      "(Noah Newman, portrayed by, Robert Gillespie Adamson IV)\n"
     ]
    }
   ],
   "source": [
    "for el in enriched_2:\n",
    "    print(el[\"knowledge_triple\"])"
   ]
  },
  {
   "cell_type": "code",
   "execution_count": null,
   "metadata": {},
   "outputs": [
    {
     "ename": "AttributeError",
     "evalue": "'DataPoint' object has no attribute 'to_dict'",
     "output_type": "error",
     "traceback": [
      "\u001b[1;31m---------------------------------------------------------------------------\u001b[0m",
      "\u001b[1;31mAttributeError\u001b[0m                            Traceback (most recent call last)",
      "Cell \u001b[1;32mIn[19], line 25\u001b[0m\n\u001b[0;32m     22\u001b[0m     \u001b[38;5;28;01mreturn\u001b[39;00m kb\n\u001b[0;32m     24\u001b[0m kb \u001b[38;5;241m=\u001b[39m create_kb(enriched_2)\n\u001b[1;32m---> 25\u001b[0m json\u001b[38;5;241m.\u001b[39mdump([\u001b[43mel\u001b[49m\u001b[38;5;241;43m.\u001b[39;49m\u001b[43mto_dict\u001b[49m() \u001b[38;5;28;01mfor\u001b[39;00m el \u001b[38;5;129;01min\u001b[39;00m kb], \u001b[38;5;28mopen\u001b[39m(\u001b[38;5;124m\"\u001b[39m\u001b[38;5;124mkb.json\u001b[39m\u001b[38;5;124m\"\u001b[39m, \u001b[38;5;124m\"\u001b[39m\u001b[38;5;124mw\u001b[39m\u001b[38;5;124m\"\u001b[39m), indent\u001b[38;5;241m=\u001b[39m\u001b[38;5;241m4\u001b[39m)\n",
      "\u001b[1;31mAttributeError\u001b[0m: 'DataPoint' object has no attribute 'to_dict'"
     ]
    }
   ],
   "source": [
    "def get_tuple(tuple_string):\n",
    "    trimmed_string = tuple_string.strip(\"()\")\n",
    "\n",
    "    elements = trimmed_string.split(',')\n",
    "\n",
    "    tuple_elements = tuple(element.strip() for element in elements)\n",
    "    return tuple_elements\n",
    "\n",
    "def create_kb(enriched_qa):\n",
    "    kb = []\n",
    "    for qa_item in enriched_qa:\n",
    "        if qa_item[\"knowledge_triple\"]:\n",
    "            triple = get_tuple(qa_item[\"knowledge_triple\"])\n",
    "            kb.append(DataPoint(\n",
    "                Q=qa_item[\"question\"],\n",
    "                A=qa_item[\"answer\"][0],\n",
    "                name=triple[0],\n",
    "                description_type=triple[1],\n",
    "                description=triple[2],\n",
    "                key_string=f\"the {triple[1]} of {triple[0]}\",\n",
    "            ))\n",
    "    return kb\n",
    "\n",
    "kb = create_kb(enriched_2)\n"
   ]
  },
  {
   "cell_type": "code",
   "execution_count": 7,
   "metadata": {},
   "outputs": [],
   "source": [
    "import dataclasses\n",
    "\n",
    "# json.dump([dataclasses.asdict(el) for el in kb], open(\"kb.json\", \"w\"), indent=4)\n",
    "out_path = r\"C:\\Users\\t-isazawat\\Documents\\Experiments\\KBLaM Rebuttal\\Natural Questions\\nq_kb\\kb.json\"\n",
    "reloaded_kb= [DataPoint(**el) for el in json.load(open(\"kb.json\", \"r\"))]\n",
    "json.dump([dataclasses.asdict(el) for el in reloaded_kb], open(out_path, \"w\"), indent=4)"
   ]
  },
  {
   "cell_type": "code",
   "execution_count": 4,
   "metadata": {},
   "outputs": [
    {
     "name": "stderr",
     "output_type": "stream",
     "text": [
      "100%|██████████| 1/1 [00:01<00:00,  1.22s/it]\n"
     ]
    }
   ],
   "source": [
    "gpt = GPT(\n",
    "    \"ada-embeddings\",\n",
    "    token=_setup_default_token(\"gpt4-api-key1\"),\n",
    "    endpoint_url=\"https://gcraoai1sw1.openai.azure.com/openai/deployments/text-embedding-ada-002/embeddings?api-version=2023-03-15-preview\"\n",
    "    )\n",
    "\n",
    "\n",
    "dataset = reloaded_kb\n",
    "key_embeds = []\n",
    "value_embeds = []\n",
    "batch_size = 100\n",
    "\n",
    "chunks = [dataset[i : i + batch_size] for i in range(0, len(dataset), batch_size)]\n",
    "\n",
    "for chunk in tqdm(chunks):\n",
    "    key_embeds.extend(gpt.generate_embeddings([entity.key_string for entity in chunk]))\n",
    "    value_embeds.extend(gpt.generate_embeddings([entity.description for entity in chunk]))"
   ]
  },
  {
   "cell_type": "code",
   "execution_count": 9,
   "metadata": {},
   "outputs": [],
   "source": [
    "import numpy as np\n",
    "\n",
    "out_folder = r\"C:\\Users\\t-isazawat\\Documents\\Experiments\\KBLaM Rebuttal\\Natural Questions\\nq_embeds\"\n",
    "np.save(out_folder + r\"\\embd_key.npy\", np.array(key_embeds))\n",
    "np.save(out_folder + r\"\\embd_value.npy\", np.array(value_embeds))"
   ]
  },
  {
   "cell_type": "code",
   "execution_count": null,
   "metadata": {},
   "outputs": [],
   "source": []
  }
 ],
 "metadata": {
  "kernelspec": {
   "display_name": "Python 3",
   "language": "python",
   "name": "python3"
  },
  "language_info": {
   "codemirror_mode": {
    "name": "ipython",
    "version": 3
   },
   "file_extension": ".py",
   "mimetype": "text/x-python",
   "name": "python",
   "nbconvert_exporter": "python",
   "pygments_lexer": "ipython3",
   "version": "3.12.0"
  }
 },
 "nbformat": 4,
 "nbformat_minor": 2
}
